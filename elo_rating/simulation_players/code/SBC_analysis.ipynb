{
 "cells": [
  {
   "cell_type": "code",
   "execution_count": 1,
   "metadata": {},
   "outputs": [],
   "source": [
    "import pandas as pd\n",
    "\n",
    "from scipy.stats import kstest"
   ]
  },
  {
   "cell_type": "code",
   "execution_count": 2,
   "metadata": {},
   "outputs": [],
   "source": [
    "ALPHA = .05"
   ]
  },
  {
   "cell_type": "code",
   "execution_count": 6,
   "metadata": {},
   "outputs": [
    {
     "data": {
      "text/plain": [
       "0.056074766355140186"
      ]
     },
     "execution_count": 6,
     "metadata": {},
     "output_type": "execute_result"
    }
   ],
   "source": [
    "stats = pd.read_csv(f'C:/Users/Ezequiel/OneDrive - Fundacao Getulio Vargas - FGV/Grad MAp FGV/IC/modeling-brazilian-soccer/elo_rating/simulation_players/SBC_cache/stats.csv')\n",
    "stats['rank'] = stats['rank'] / stats['max_rank']\n",
    "fails = list()\n",
    "for var in stats['variable'].unique():\n",
    "    rank_data = stats[stats['variable'] == var]['rank']\n",
    "\n",
    "    ks_statistic, p_value = kstest(rank_data, 'uniform', alternative='two-sided', mode='auto')\n",
    "    if p_value < ALPHA: fails.append(var)\n",
    "\n",
    "len(fails) / len(stats['variable'].unique())"
   ]
  },
  {
   "cell_type": "code",
   "execution_count": 5,
   "metadata": {},
   "outputs": [
    {
     "data": {
      "text/plain": [
       "0.047619047619047616"
      ]
     },
     "execution_count": 5,
     "metadata": {},
     "output_type": "execute_result"
    }
   ],
   "source": [
    "stats = pd.read_csv(f'C:/Users/Ezequiel/OneDrive - Fundacao Getulio Vargas - FGV/Grad MAp FGV/IC/modeling-brazilian-soccer/elo_rating/simulation_clubs/SBC_cache/stats.csv')\n",
    "stats['rank'] = stats['rank'] / stats['max_rank']\n",
    "fails = list()\n",
    "for var in stats['variable'].unique():\n",
    "    rank_data = stats[stats['variable'] == var]['rank']\n",
    "\n",
    "    ks_statistic, p_value = kstest(rank_data, 'uniform', alternative='two-sided', mode='auto')\n",
    "    if p_value < ALPHA: fails.append(var)\n",
    "\n",
    "len(fails) / len(stats['variable'].unique())"
   ]
  }
 ],
 "metadata": {
  "kernelspec": {
   "display_name": "Python 3",
   "language": "python",
   "name": "python3"
  },
  "language_info": {
   "codemirror_mode": {
    "name": "ipython",
    "version": 3
   },
   "file_extension": ".py",
   "mimetype": "text/x-python",
   "name": "python",
   "nbconvert_exporter": "python",
   "pygments_lexer": "ipython3",
   "version": "3.11.7"
  },
  "orig_nbformat": 4,
  "vscode": {
   "interpreter": {
    "hash": "68a818ea200cf26246555ed215b2805781440e4bd9c1dd7c5d891140b3a1e7c0"
   }
  }
 },
 "nbformat": 4,
 "nbformat_minor": 2
}
